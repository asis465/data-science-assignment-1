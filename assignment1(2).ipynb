{
 "cells": [
  {
   "cell_type": "code",
   "execution_count": 2,
   "id": "8001de67-99aa-4b46-b137-3171550a3299",
   "metadata": {},
   "outputs": [
    {
     "data": {
      "text/plain": [
       "'(i) String:'"
      ]
     },
     "execution_count": 2,
     "metadata": {},
     "output_type": "execute_result"
    }
   ],
   "source": [
    "\"(i) String:\""
   ]
  },
  {
   "cell_type": "code",
   "execution_count": 3,
   "id": "3d05273a-26a6-4388-847d-b8160848a7f3",
   "metadata": {},
   "outputs": [],
   "source": [
    "my_string = \"Hellow, asis\""
   ]
  },
  {
   "cell_type": "code",
   "execution_count": 5,
   "id": "52d52032-b0a6-498c-a3c3-980e42031ba2",
   "metadata": {},
   "outputs": [
    {
     "data": {
      "text/plain": [
       "'(ii) List:'"
      ]
     },
     "execution_count": 5,
     "metadata": {},
     "output_type": "execute_result"
    }
   ],
   "source": [
    "\"(ii) List:\""
   ]
  },
  {
   "cell_type": "code",
   "execution_count": 6,
   "id": "1742b3b7-71f4-47f5-af1c-3ab136459184",
   "metadata": {},
   "outputs": [],
   "source": [
    "my_list = [5, 10, 15, 20, 25]"
   ]
  },
  {
   "cell_type": "code",
   "execution_count": 7,
   "id": "9245be82-dced-4458-bf15-150f3b495602",
   "metadata": {},
   "outputs": [
    {
     "data": {
      "text/plain": [
       "'(iii) Float:'"
      ]
     },
     "execution_count": 7,
     "metadata": {},
     "output_type": "execute_result"
    }
   ],
   "source": [
    "\"(iii) Float:\""
   ]
  },
  {
   "cell_type": "code",
   "execution_count": 8,
   "id": "82f926a9-a42b-48ae-9999-9cc1c96489d7",
   "metadata": {},
   "outputs": [],
   "source": [
    "my_float = 3.14"
   ]
  },
  {
   "cell_type": "code",
   "execution_count": 9,
   "id": "ce805cc3-02fd-4063-ba9b-91e714b80fba",
   "metadata": {},
   "outputs": [
    {
     "data": {
      "text/plain": [
       "'(iv) Tuple:'"
      ]
     },
     "execution_count": 9,
     "metadata": {},
     "output_type": "execute_result"
    }
   ],
   "source": [
    "\"(iv) Tuple:\""
   ]
  },
  {
   "cell_type": "code",
   "execution_count": 11,
   "id": "c10ced8f-cb1a-44d2-b00b-0904c5081bc7",
   "metadata": {},
   "outputs": [],
   "source": [
    "my_tuple = (20,'asis',35.33,[30,77,88])"
   ]
  },
  {
   "cell_type": "code",
   "execution_count": 13,
   "id": "bbfef2bb-816e-4b57-9293-c8e6ba502ee7",
   "metadata": {},
   "outputs": [
    {
     "data": {
      "text/plain": [
       "tuple"
      ]
     },
     "execution_count": 13,
     "metadata": {},
     "output_type": "execute_result"
    }
   ],
   "source": [
    "type ( my_tuple)"
   ]
  },
  {
   "cell_type": "code",
   "execution_count": 15,
   "id": "dffef0ae-fee8-44a6-ba99-8d3b016ad051",
   "metadata": {},
   "outputs": [],
   "source": [
    "#02 "
   ]
  },
  {
   "cell_type": "code",
   "execution_count": 22,
   "id": "c63cc49f-2f4e-4054-89b5-d0c4b50c878c",
   "metadata": {},
   "outputs": [],
   "source": [
    "var1 = '' ## String"
   ]
  },
  {
   "cell_type": "code",
   "execution_count": 23,
   "id": "5d8572cc-689c-4eb3-a01f-0ac411e2c825",
   "metadata": {},
   "outputs": [],
   "source": [
    "var2 = ['DS', 'ML', 'Python'] ##String with list"
   ]
  },
  {
   "cell_type": "code",
   "execution_count": 21,
   "id": "fc94aab0-91b4-4125-9b6c-d5f96e5cffa0",
   "metadata": {},
   "outputs": [],
   "source": [
    "var3 = ['DS', 'ML', 'Python'] ##List"
   ]
  },
  {
   "cell_type": "code",
   "execution_count": 20,
   "id": "3a111eeb-87e0-41e0-aca9-ae4afccaa97b",
   "metadata": {},
   "outputs": [],
   "source": [
    "var4 = 1 ## Integer"
   ]
  },
  {
   "cell_type": "code",
   "execution_count": 5,
   "id": "2919f3d7-2170-4e85-9183-b7b5a1eeb6fc",
   "metadata": {},
   "outputs": [],
   "source": [
    "x=3"
   ]
  },
  {
   "cell_type": "code",
   "execution_count": 6,
   "id": "b1223e2b-cbeb-44bb-aee0-ba65c07d8510",
   "metadata": {},
   "outputs": [],
   "source": [
    "y=3"
   ]
  },
  {
   "cell_type": "code",
   "execution_count": 7,
   "id": "0edd7086-6849-42fd-b668-bb7eb385135c",
   "metadata": {},
   "outputs": [],
   "source": [
    "result = x/y ## / is use for dividing operand"
   ]
  },
  {
   "cell_type": "code",
   "execution_count": 8,
   "id": "d2b2682a-3fef-4512-9f05-d150bfeaa73b",
   "metadata": {},
   "outputs": [
    {
     "name": "stdout",
     "output_type": "stream",
     "text": [
      "1.0\n"
     ]
    }
   ],
   "source": [
    "print(result)"
   ]
  },
  {
   "cell_type": "code",
   "execution_count": 13,
   "id": "b3def913-9b7a-4e8c-8c72-640cc803597d",
   "metadata": {},
   "outputs": [],
   "source": [
    "A=5"
   ]
  },
  {
   "cell_type": "code",
   "execution_count": 17,
   "id": "0a8ba426-95eb-4b5d-bde6-87e428fbacd3",
   "metadata": {},
   "outputs": [],
   "source": [
    "B=10"
   ]
  },
  {
   "cell_type": "code",
   "execution_count": 18,
   "id": "44e909a0-8975-47ea-a78a-b1b7819637ab",
   "metadata": {},
   "outputs": [],
   "source": [
    "Result = A**B"
   ]
  },
  {
   "cell_type": "code",
   "execution_count": 19,
   "id": "d55779e5-b61a-4e89-86cf-aca440d2a577",
   "metadata": {},
   "outputs": [
    {
     "name": "stdout",
     "output_type": "stream",
     "text": [
      "9765625\n"
     ]
    }
   ],
   "source": [
    "print(Result) ## **Exponent operator is used for calculation of exponential power 5*5*5*5*5*5*5*5*5*5= 9765625 A**B "
   ]
  },
  {
   "cell_type": "code",
   "execution_count": 20,
   "id": "868b8074-92e1-4d98-80a5-dba54845371d",
   "metadata": {},
   "outputs": [],
   "source": [
    "##percentile (%) operator it use for finding out divide reminder"
   ]
  },
  {
   "cell_type": "code",
   "execution_count": 21,
   "id": "6c3debd0-e756-4502-b107-8d2e94a90e84",
   "metadata": {},
   "outputs": [],
   "source": [
    "x= 20"
   ]
  },
  {
   "cell_type": "code",
   "execution_count": 24,
   "id": "9a1d4b0e-cf89-4d37-ae86-30a1633b1ad4",
   "metadata": {},
   "outputs": [],
   "source": [
    "y = 10"
   ]
  },
  {
   "cell_type": "code",
   "execution_count": 25,
   "id": "3d0f201b-aa7a-4a79-a9b3-b80916b7ee17",
   "metadata": {},
   "outputs": [
    {
     "name": "stdout",
     "output_type": "stream",
     "text": [
      "0\n"
     ]
    }
   ],
   "source": [
    "print(x%y)"
   ]
  },
  {
   "cell_type": "code",
   "execution_count": 26,
   "id": "88b10019-eb78-432e-88dd-73b0fe34fc87",
   "metadata": {},
   "outputs": [],
   "source": [
    "## // floor division operator"
   ]
  },
  {
   "cell_type": "code",
   "execution_count": 27,
   "id": "c1f51588-7291-4fe3-b5b9-1c9a92614eaf",
   "metadata": {},
   "outputs": [],
   "source": [
    "x = 50"
   ]
  },
  {
   "cell_type": "code",
   "execution_count": 28,
   "id": "11d904d5-2e06-4e86-8869-ea96a81634ca",
   "metadata": {},
   "outputs": [],
   "source": [
    "y= 20"
   ]
  },
  {
   "cell_type": "code",
   "execution_count": 30,
   "id": "a816547a-bfd0-4248-bc9d-42decd150c2a",
   "metadata": {},
   "outputs": [
    {
     "data": {
      "text/plain": [
       "2"
      ]
     },
     "execution_count": 30,
     "metadata": {},
     "output_type": "execute_result"
    }
   ],
   "source": [
    "x // y"
   ]
  },
  {
   "cell_type": "code",
   "execution_count": 31,
   "id": "326e20a3-8987-4514-a739-67b06209c64f",
   "metadata": {},
   "outputs": [],
   "source": [
    "##in the above program ,actual value that we get is 2.5 but we use // floor division operator it had to adjust it to the left side 2.5 to 2"
   ]
  },
  {
   "cell_type": "code",
   "execution_count": 2,
   "id": "5d5eee76-b1e5-4794-9f56-bccfd38aaaf0",
   "metadata": {},
   "outputs": [],
   "source": [
    "my_list = [42, \"Hello , asis\", 3.14, True, [1, 2, 3], {\"name\": \"Akash\", \"age\": 22},False]"
   ]
  },
  {
   "cell_type": "code",
   "execution_count": 10,
   "id": "73840779-ad53-47ff-afe1-d0b80a38db2e",
   "metadata": {},
   "outputs": [
    {
     "name": "stdout",
     "output_type": "stream",
     "text": [
      "42 <class 'int'>\n",
      "Hello , asis <class 'str'>\n",
      "3.14 <class 'float'>\n",
      "True <class 'bool'>\n",
      "[1, 2, 3] <class 'list'>\n",
      "{'name': 'John', 'age': 25} <class 'dict'>\n",
      "False <class 'bool'>\n"
     ]
    }
   ],
   "source": [
    "for a in my_list:\n",
    "    print(a,type(a))"
   ]
  },
  {
   "cell_type": "code",
   "execution_count": 11,
   "id": "e7e4e8c3-2030-4ad0-bd61-0f4c5421aa7c",
   "metadata": {},
   "outputs": [
    {
     "name": "stdout",
     "output_type": "stream",
     "text": [
      "Number A is divisible by number B 2 times.\n"
     ]
    }
   ],
   "source": [
    "A = 100\n",
    "B = 5\n",
    "count = 0\n",
    "\n",
    "while A % B == 0:\n",
    "    A = A / B\n",
    "    count += 1\n",
    "\n",
    "print(\"Number A is divisible by number B\", count, \"times.\")"
   ]
  },
  {
   "cell_type": "code",
   "execution_count": 13,
   "id": "cf3ba027-ac89-4717-bf06-05f8fe0c4d5e",
   "metadata": {},
   "outputs": [
    {
     "name": "stdout",
     "output_type": "stream",
     "text": [
      "11 is not divisible by 3.\n",
      "20 is not divisible by 3.\n",
      "24 is divisible by 3.\n",
      "45 is divisible by 3.\n",
      "52 is not divisible by 3.\n",
      "60 is divisible by 3.\n",
      "72 is divisible by 3.\n",
      "82 is not divisible by 3.\n",
      "92 is not divisible by 3.\n",
      "109 is not divisible by 3.\n",
      "120 is divisible by 3.\n",
      "127 is not divisible by 3.\n",
      "131 is not divisible by 3.\n",
      "144 is divisible by 3.\n",
      "157 is not divisible by 3.\n",
      "162 is divisible by 3.\n",
      "177 is divisible by 3.\n",
      "182 is not divisible by 3.\n",
      "195 is divisible by 3.\n",
      "206 is not divisible by 3.\n",
      "213 is divisible by 3.\n",
      "224 is not divisible by 3.\n",
      "236 is not divisible by 3.\n",
      "249 is divisible by 3.\n",
      "251 is not divisible by 3.\n"
     ]
    }
   ],
   "source": [
    "my_list = [11, 20, 24, 45, 52, 60, 72, 82, 92, 109, 120, 127, 131, 144, 157, 162, 177, 182, 195, 206, 213, 224, 236, 249, 251]\n",
    "\n",
    "for number in my_list:\n",
    "    if number % 3 == 0:\n",
    "        print(number, \"is divisible by 3.\")\n",
    "    else:\n",
    "        print(number, \"is not divisible by 3.\")"
   ]
  },
  {
   "cell_type": "code",
   "execution_count": 1,
   "id": "a1225492-bd99-4814-9fc7-5cb575f6e7e0",
   "metadata": {},
   "outputs": [],
   "source": [
    " ##the list my_list contains 25 integers. The for loop iterates over each element of the list. Inside the loop, an if-else condition is used to check if each element is divisible by 3 or not (num % 3 == 0). If the condition is true, it prints that the element is divisible by 3; otherwise, it prints that the element is not divisible by 3."
   ]
  },
  {
   "cell_type": "code",
   "execution_count": 2,
   "id": "0f7cf418-8b0a-4ea9-886f-88f1ff170f05",
   "metadata": {},
   "outputs": [],
   "source": [
    "##Immutable data types are those whose values cannot be changed after they are created. Whenever you perform an operation that appears to modify an immutable object, it actually creates a new object with the updated value. Some examples of immutable data types in Python include:"
   ]
  },
  {
   "cell_type": "code",
   "execution_count": 3,
   "id": "350ebb1a-d168-49df-93c3-ba2014c93455",
   "metadata": {},
   "outputs": [
    {
     "name": "stdout",
     "output_type": "stream",
     "text": [
      "6\n"
     ]
    }
   ],
   "source": [
    "##Integer: Once an integer is assigned a value, it cannot be changed. For example:\n",
    "x = 5\n",
    "x += 1  # This creates a new integer object with the value 6\n",
    "print(x)  # Output: 6"
   ]
  },
  {
   "cell_type": "code",
   "execution_count": 4,
   "id": "965db069-714e-4a4d-8a1b-2bf1a55044c9",
   "metadata": {},
   "outputs": [
    {
     "name": "stdout",
     "output_type": "stream",
     "text": [
      "4.140000000000001\n"
     ]
    }
   ],
   "source": [
    "##Float: Similar to integers, floats are immutable. Once a float is assigned a value, it cannot be changed.\n",
    "y = 3.14\n",
    "y = y + 1.0  # This creates a new float object with the value 4.14\n",
    "print(y)  # Output: 4.14"
   ]
  },
  {
   "cell_type": "code",
   "execution_count": 7,
   "id": "019032fa-ffdf-4fc0-affb-95846be08c68",
   "metadata": {},
   "outputs": [
    {
     "name": "stdout",
     "output_type": "stream",
     "text": [
      "Hello, asis!\n"
     ]
    }
   ],
   "source": [
    "##String: Strings are also immutable in Python. If you try to modify a string, it creates a new string object with the updated value.\n",
    "message = \"Hello\"\n",
    "message += \", asis!\"  # This creates a new string object with the value \"Hello, asis!\"\n",
    "print(message)  # Output: Hello, asis!"
   ]
  },
  {
   "cell_type": "code",
   "execution_count": 8,
   "id": "0e8792ef-ddec-4ac2-80f2-c46ad374b00a",
   "metadata": {},
   "outputs": [],
   "source": [
    "##mutable data types are those whose values can be modified after they are created. Changes made to a mutable object directly affect the object itself, without creating a new object. Examples of mutable data types in Python include:"
   ]
  },
  {
   "cell_type": "code",
   "execution_count": 9,
   "id": "f5c2efda-4288-45e1-8e21-eb8858236fd4",
   "metadata": {},
   "outputs": [],
   "source": [
    "##List: Lists are mutable and can be modified by adding, removing, or modifying elements"
   ]
  },
  {
   "cell_type": "code",
   "execution_count": 10,
   "id": "ec1c02c8-dfad-4e05-9ce3-00b9e24c4747",
   "metadata": {},
   "outputs": [
    {
     "name": "stdout",
     "output_type": "stream",
     "text": [
      "[1, 2, 3, 4]\n",
      "[1, 5, 3, 4]\n"
     ]
    }
   ],
   "source": [
    "my_list = [1, 2, 3]\n",
    "my_list.append(4)  # Modifies the list by adding a new element\n",
    "print(my_list)  # Output: [1, 2, 3, 4]\n",
    "\n",
    "my_list[1] = 5  # Modifies the list by changing the value of an element\n",
    "print(my_list)  # Output: [1, 5, 3, 4]"
   ]
  },
  {
   "cell_type": "code",
   "execution_count": 11,
   "id": "7f9dc5f9-3621-41c4-a521-fc84d9cafee8",
   "metadata": {},
   "outputs": [],
   "source": [
    "##Dictionary: Dictionaries are mutable and allow you to add, remove, or modify key-value pairs."
   ]
  },
  {
   "cell_type": "code",
   "execution_count": 12,
   "id": "ccfd5e45-dee4-4b33-89dd-225662917f8c",
   "metadata": {},
   "outputs": [
    {
     "name": "stdout",
     "output_type": "stream",
     "text": [
      "{'name': 'John', 'age': 26}\n",
      "{'name': 'John', 'age': 26, 'city': 'New York'}\n"
     ]
    }
   ],
   "source": [
    "my_dict = {\"name\": \"John\", \"age\": 25}\n",
    "my_dict[\"age\"] = 26  # Modifies the value associated with the \"age\" key\n",
    "print(my_dict)  # Output: {'name': 'John', 'age': 26}\n",
    "\n",
    "my_dict[\"city\"] = \"New York\"  # Modifies the dictionary by adding a new key-value pair\n",
    "print(my_dict)  # Output: {'name': 'John', 'age': 26, 'city': 'New York'}"
   ]
  },
  {
   "cell_type": "code",
   "execution_count": 13,
   "id": "e99e7d50-7a52-4d0d-8995-edbeb3e90242",
   "metadata": {},
   "outputs": [],
   "source": [
    "##Set: Sets are mutable and allow you to add or remove elements."
   ]
  },
  {
   "cell_type": "code",
   "execution_count": null,
   "id": "63c20ce2-f36f-4945-ab91-fdfb9ea837b8",
   "metadata": {},
   "outputs": [],
   "source": []
  }
 ],
 "metadata": {
  "kernelspec": {
   "display_name": "Python 3 (ipykernel)",
   "language": "python",
   "name": "python3"
  },
  "language_info": {
   "codemirror_mode": {
    "name": "ipython",
    "version": 3
   },
   "file_extension": ".py",
   "mimetype": "text/x-python",
   "name": "python",
   "nbconvert_exporter": "python",
   "pygments_lexer": "ipython3",
   "version": "3.10.8"
  }
 },
 "nbformat": 4,
 "nbformat_minor": 5
}
